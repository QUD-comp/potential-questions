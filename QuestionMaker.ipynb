{
 "cells": [
  {
   "cell_type": "code",
   "execution_count": null,
   "metadata": {
    "scrolled": true
   },
   "outputs": [],
   "source": [
    "import spacy\n",
    "import re\n",
    "import random\n",
    "from itertools import islice\n",
    "import pandas as pd\n",
    "import nltk\n",
    "nltk.download('propbank')"
   ]
  },
  {
   "cell_type": "code",
   "execution_count": 2,
   "metadata": {
    "collapsed": true
   },
   "outputs": [],
   "source": [
    "from nltk.corpus import propbank"
   ]
  },
  {
   "cell_type": "code",
   "execution_count": 3,
   "metadata": {
    "collapsed": true
   },
   "outputs": [],
   "source": [
    "nlp = spacy.load('en') # initiate spacy parser for English\n",
    "datapath = 'q_temps.tsv' \n",
    "df = pd.read_csv(datapath, sep = '\\t') # load question templates from tsv\n",
    "df.columns = ['Q', 'POS', 'TAG']\n",
    "aux_list = ['aux', 'auxpass', 'ROOT', 'advcl', 'ccomp', 'conj']\n",
    "verb_list = ['VBG', 'VBN', 'VBD', 'VBP', 'VBZ', 'VB']\n",
    "subj_list = [ 'nsubj', 'nsubjpass', 'expl','csubj','csubjpass']\n",
    "obj_list = ['obj', 'dobj', 'pobj']\n",
    "conj_list = ['CC', 'IN']\n",
    "indefinites = ['a', 'an']\n",
    "time_list = ['DATE', 'TIME','WRB']\n",
    "aux_dict = {'VBD': ['did', 'do', 'VBD', 'O', '', 'aux'],'VBP': ['do', 'do', 'VB', 'O', '', 'aux'], 'VBZ': ['does', 'do', 'VBZ', 'O', '', 'aux']}\n",
    "pro_dict = {'mine': 'yours', 'yours': 'mine', 'ours': 'yours', 'we': 'you', 'We': 'you', 'my': 'your', 'our': 'your', 'your': 'my', 'myself': 'yourself', 'ourself': 'yourself', 'yourself': 'myself', 'me': 'you', 'mine': 'yours', 'yours': 'mine', 'ours': 'yours', 'i': 'you'}\n",
    "pro_dict2 = {'she': 'her', 'he': 'him', 'they': 'them', 'her': 'her', 'him': 'him', 'them': 'them'}\n",
    "personal_nouns = ['PERSON', 'ORG']\n",
    "prep_list = ['at','for','to','on','by','with','in','from','into','about','behind','against','of','as']"
   ]
  },
  {
   "cell_type": "code",
   "execution_count": 4,
   "metadata": {
    "collapsed": true
   },
   "outputs": [],
   "source": [
    "pb_inst = propbank.instances()\n",
    "verb_dict = {pb_inst[i].roleset[:-3]:i for i,item in enumerate(pb_inst)} # get verbs and their position in propbank list"
   ]
  },
  {
   "cell_type": "code",
   "execution_count": 5,
   "metadata": {
    "collapsed": true
   },
   "outputs": [],
   "source": [
    "def you_and_me(s): \n",
    "    sentlist = s.split()\n",
    "    for i, word in enumerate(sentlist):\n",
    "        if word.lower() == 'i' and sentlist[i+1].lower() == 'am':\n",
    "            sentlist[i] = 'you'\n",
    "            sentlist[i+1] = 'are'\n",
    "        elif word.lower() == 'you' and sentlist[i+1].lower() == 'are':\n",
    "            sentlist[i] = 'I'\n",
    "            sentlist[i+1] = 'am'\n",
    "        elif word.lower() == 'i' and sentlist[i+1].lower() == 'was':\n",
    "            sentlist[i] = 'you'\n",
    "            sentlist[i+1] = 'were'\n",
    "    return ' '.join(sentlist)"
   ]
  },
  {
   "cell_type": "code",
   "execution_count": 6,
   "metadata": {
    "collapsed": true
   },
   "outputs": [],
   "source": [
    "def return_tags(s):\n",
    "    # tag words in sentence using spacy\n",
    "    parsed_s = nlp(s)\n",
    "    return [[str(X).lower(), X.lemma_, X.tag_, X.ent_iob_, X.ent_type_, X.dep_] if X.ent_iob_ == 'O' else [str(X), X.lemma_, X.tag_, X.ent_iob_, X.ent_type_, X.dep_] for X in parsed_s]"
   ]
  },
  {
   "cell_type": "code",
   "execution_count": 7,
   "metadata": {
    "collapsed": true
   },
   "outputs": [],
   "source": [
    "def specify_obj(s):\n",
    "    qs = []\n",
    "    for i, tup in enumerate(s):\n",
    "        if tup[5] in obj_list and not tup[2] == 'PRP':\n",
    "            tags = [item[5] for item in s[:i+1]]\n",
    "            pattern = list(zip(range(len(tags)),tags))\n",
    "            no_pattern = ([tup[1]+str(tup[0]) for tup in pattern])\n",
    "            pattern_dict = dict(zip(no_pattern,range(len(tags))))\n",
    "            object_pattern = re.search(r'(?:nummod([0-9]+) )?(?:amod([0-9]+),?(?: cc([0-9]+) conj([0-9]+))* )*(?:compound([0-9]+) )?(?:(?:obj|pobj|dobj)([0-9]+))',' '.join(no_pattern))\n",
    "            if object_pattern not in [[], None]:\n",
    "                obj_tags = object_pattern.group().split()\n",
    "                obj_start = pattern_dict[obj_tags[0]]\n",
    "                obj_end = pattern_dict[obj_tags[-1]]\n",
    "                if s[obj_start-1][2] not in ['DT','PRP$']:\n",
    "                    qs.append('Which ' + ' '.join([word[0] for word in s[obj_start:i+1]]) + ' ' + ' '.join([word[0] for word in s[:obj_start]]) + '?')\n",
    "                elif s[obj_start-1][0].lower() in indefinites:\n",
    "                    qs.append('Which ' + ' '.join([word[0] for word in s[obj_start:i+1]]) + ' ' + ' '.join([word[0] for word in s[:obj_start-1]]) + '?')\n",
    "                    qs.append('What is the ' + ' '.join(word[0] for word in s[obj_start:i+1]) + ' about?')\n",
    "    return qs"
   ]
  },
  {
   "cell_type": "code",
   "execution_count": 8,
   "metadata": {
    "collapsed": true
   },
   "outputs": [],
   "source": [
    "def specify_subj(s):\n",
    "    qs = []\n",
    "    for i, tup in enumerate(s):\n",
    "        if tup[5] in subj_list:\n",
    "            tags = [item[2] for item in s[:i+1]]\n",
    "            pattern = list(zip(range(len(tags)),tags))\n",
    "            no_pattern = ([tup[1]+str(tup[0]) for tup in pattern])\n",
    "            pattern_dict = dict(zip(no_pattern,range(len(tags))))\n",
    "            subject_pattern = re.search(r'(?:JJ[R|S]?[0-9]+ )*(?:(?:NNS*|EX)[0-9]+) ?(?:IN[0-9]+ )?(?:NNS*[0-9] ?)*',' '.join(no_pattern))\n",
    "            if subject_pattern not in [[], None]:\n",
    "                subj_tags = subject_pattern.group().split()\n",
    "                subj_start = pattern_dict[subj_tags[0]]\n",
    "                subj_end = pattern_dict[subj_tags[-1]]\n",
    "                if s[subj_start-1][2] not in ['DT','PRP$']:\n",
    "                    qs.append('Which ' + ' '.join([word[0] for word in s[subj_end:]]) + '?')\n",
    "                elif s[subj_start-1][0].lower() in indefinites:\n",
    "                    qs.append('Which ' + ' '.join([word[0] for word in s[subj_end:]]) + '?')\n",
    "    return qs"
   ]
  },
  {
   "cell_type": "code",
   "execution_count": 9,
   "metadata": {
    "collapsed": true
   },
   "outputs": [],
   "source": [
    "def set_verb(s):\n",
    "    # add auxiliary for subject-aux reversal\n",
    "    for i,tup in enumerate(islice(s, len(s))):\n",
    "        if tup[5] == 'aux':\n",
    "            return s\n",
    "        if tup[2] in aux_dict and tup[1] != 'be':\n",
    "            tup[0] = tup[1]\n",
    "            ss = s[:i] + [[x for x in aux_dict[tup[2]]]] + [[y for y in tup]] + s[i+1:]\n",
    "            return ss\n",
    "    return s"
   ]
  },
  {
   "cell_type": "code",
   "execution_count": 10,
   "metadata": {
    "collapsed": true
   },
   "outputs": [],
   "source": [
    "def reverse_subj_aux(t):\n",
    "    # find subject and switch subj and aux\n",
    "    for i, tup in enumerate(islice(t, len(t)-1)):\n",
    "        if tup[5] in subj_list and t[i+1][5] in aux_list:\n",
    "            tags = [item[2] for item in t[:i+1]]\n",
    "            subject_pattern = re.findall(r'(?:DT|PRP\\$)? ?(?:JJ[R|S]? )*(?:NN[PS]*|PRP|EX) ?(?:IN )?(?:NN[PS]* ?)*',' '.join(tags))\n",
    "            if subject_pattern not in [[], None]:\n",
    "                subj_tags = [tag for tag in subject_pattern[0].split()]\n",
    "                subj_start = tags.index(subj_tags[0])\n",
    "                subj_end = tags.index(subj_tags[-1])+1\n",
    "                new_order = t[:subj_start] + t[i+1:i+2] + t[subj_start:subj_end] + t[i+2:]\n",
    "                return new_order\n",
    "    return t"
   ]
  },
  {
   "cell_type": "code",
   "execution_count": 11,
   "metadata": {
    "collapsed": true
   },
   "outputs": [],
   "source": [
    "def change_view(s): \n",
    "    # switch personal pronouns etc first-second person \n",
    "    for word in s:\n",
    "        if word[2] in ['PRP','PRP$','NNS','NN']:\n",
    "            if str(word[0]).lower() in pro_dict:\n",
    "                word[0] = pro_dict[str(word[0]).lower()]\n",
    "    return s"
   ]
  },
  {
   "cell_type": "code",
   "execution_count": 12,
   "metadata": {
    "collapsed": true
   },
   "outputs": [],
   "source": [
    "def why(s):\n",
    "    q = []\n",
    "    if s[0][5] in aux_list:\n",
    "        q.append('Why ' + ' '.join([word[0] if not word[0] in indefinites else 'the' for word in s]) + '?')\n",
    "    return q"
   ]
  },
  {
   "cell_type": "code",
   "execution_count": 13,
   "metadata": {
    "collapsed": true
   },
   "outputs": [],
   "source": [
    "def where(s):\n",
    "    q = []\n",
    "    to_delete = []\n",
    "    if s[0][5] in aux_list:\n",
    "        for i, word in enumerate(s):\n",
    "            if word[0] == 'there' and not word[2] == 'EX':\n",
    "                to_delete.append(i)\n",
    "    for index in to_delete:\n",
    "        del s[i]\n",
    "        q.append('Where exactly ' + ' '.join([word[0] if not word [0] in indefinites else 'the' for word in s]) + '?')\n",
    "    return q"
   ]
  },
  {
   "cell_type": "code",
   "execution_count": 14,
   "metadata": {
    "collapsed": true
   },
   "outputs": [],
   "source": [
    "def when(s):\n",
    "    q = 'When ' + ' '.join([word[0] if not word[0] in indefinites else 'the' for word in s]) + '?'\n",
    "    return q"
   ]
  },
  {
   "cell_type": "code",
   "execution_count": 15,
   "metadata": {
    "collapsed": true
   },
   "outputs": [],
   "source": [
    "def animacy(s):\n",
    "    qlist = []\n",
    "    for word in s: \n",
    "        if word[4] in personal_nouns:\n",
    "            qlist.append('What else do we know about %s?' % word[0])\n",
    "        elif word[0].lower() in pro_dict2.keys():\n",
    "            qlist.append('What else do we know about %s?' % pro_dict2[word[0].lower()])\n",
    "    return qlist"
   ]
  },
  {
   "cell_type": "code",
   "execution_count": 16,
   "metadata": {
    "collapsed": true
   },
   "outputs": [],
   "source": [
    "def subcategorization(s):\n",
    "    qs = []\n",
    "    defn = ['the', 'the', 'DT', 'O', '', 'det']\n",
    "    objects = [word for word in s if word[5] in obj_list]\n",
    "    for word in s:\n",
    "        if word[2] in verb_list and not word[1] == 'be':\n",
    "            if word[1] in verb_dict.keys():\n",
    "                roles = [tup[1] for tup in pb_inst[verb_dict[word[1]]].arguments]\n",
    "                if 'ARG0' in roles:\n",
    "                    roles.remove('ARG0')\n",
    "                if 'ARGM-MNR' in roles:\n",
    "                    qs.append('How ' + ' '.join([word[0] for word in s]) + '?')\n",
    "                if len([role for role in roles if role in ['ARG1', 'ARG2']]) > len(objects):\n",
    "                    qs.append('What ' + ' '.join([word[0] for word in s]) + '?')\n",
    "                for prep in prep_list:\n",
    "                    if prep in re.findall(r'-([a-z]+)', ' '.join(roles)):\n",
    "                        sent_list = [word[0] if not word[0] in indefinites else 'the' for word in s]\n",
    "                        if not prep in sent_list:\n",
    "                            if prep == 'at':\n",
    "                                qs.append('Where ' + ' '.join(sent_list) + '?')\n",
    "                            else:\n",
    "                                qs.append('What ' + ' '.join(sent_list) + ' ' + prep + '?')\n",
    "                                qs.append('Who ' + ' '.join(sent_list) + ' ' + prep + '?')\n",
    "    return qs"
   ]
  },
  {
   "cell_type": "code",
   "execution_count": 17,
   "metadata": {
    "collapsed": true
   },
   "outputs": [],
   "source": [
    "def ne_questions(s):\n",
    "    nes = []\n",
    "    s = s[::-1]    #get Multiword Expressions\n",
    "    pattern = [word[3] for word in s]\n",
    "    for j,sym in enumerate(pattern):\n",
    "        if sym == 'B':\n",
    "            if s[j][2] == 'DT':\n",
    "                s[j][2] = s[j+1][2]\n",
    "        if sym == 'I':\n",
    "            s[j+1][0] = s[j+1][0] + ' ' + s[j][0]\n",
    "            s[j][4] = ''\n",
    "    s = s[::-1] \n",
    "    tags = {tag[0]: (tag[4],tag[2]) for tag in s if not tag[4] == ''}\n",
    "    questions = []\n",
    "    for name, tup in tags.items():\n",
    "        df_selection = df[(df.TAG == tup[0]) & (df.POS == tup[1])]\n",
    "        qlist = df_selection['Q']\n",
    "        qs = []\n",
    "        for ql in qlist:\n",
    "            new = ql.replace(tup[0], name)    #replace tag in template with word \n",
    "            qs.append(new)\n",
    "        nes.append(qs)\n",
    "    return nes"
   ]
  },
  {
   "cell_type": "code",
   "execution_count": 18,
   "metadata": {
    "collapsed": true
   },
   "outputs": [],
   "source": [
    "def simplify_nested(s):\n",
    "    tags = [word[5] for word in s]\n",
    "    for i, tag in enumerate(tags):\n",
    "        if tag in subj_list:\n",
    "            j = i\n",
    "            commas = 0\n",
    "            while j < len(tags):\n",
    "                if tags[j] == 'punct':\n",
    "                    commas +=1\n",
    "                elif tags[j] in aux_list and commas%2 == 0:\n",
    "                    return s[:i+1] + s[j:]\n",
    "                j += 1\n",
    "        return s"
   ]
  },
  {
   "cell_type": "code",
   "execution_count": 19,
   "metadata": {
    "collapsed": true
   },
   "outputs": [],
   "source": [
    "def separate_matrix(sent):\n",
    "    s = []\n",
    "    def separate(s_):\n",
    "        tags = [word[5] for word in s_]\n",
    "        if 'mark' not in tags:\n",
    "            s.append(s_)\n",
    "        elif 'mark' in tags:\n",
    "            separate(s_[:tags.index('mark')])\n",
    "            separate(s_[tags.index('mark')+1:])\n",
    "    separate(sent)\n",
    "    return(s)"
   ]
  },
  {
   "cell_type": "code",
   "execution_count": 20,
   "metadata": {
    "collapsed": true
   },
   "outputs": [],
   "source": [
    "def split_at_and(sent):\n",
    "    s = []\n",
    "    def split(s_):\n",
    "        tags = [word[2] for word in s_]\n",
    "        if 'CC' not in tags:\n",
    "            s.append(s_)\n",
    "        else:\n",
    "            sub1, sub2 = s_[:tags.index('CC')], s_[tags.index('CC')+1:]\n",
    "            if sub1[0][5] in subj_list and any(set(aux_list) & set([w[5] for w in sub1])) and sub2[0][5] in subj_list and any(set(aux_list) & set([w[5] for w in sub2])):\n",
    "            #if any(set(subj_list) & set([w[5] for w in sub1])) and any(set(aux_list) & set([w[5] for w in sub1])) and any(set(subj_list) & set([w[5] for w in sub2])) and any(set(aux_list) & set([w[5] for w in sub2])):\n",
    "                split(sub1)\n",
    "                split(sub2)\n",
    "            else: \n",
    "                s.append(s_)\n",
    "    split(sent)\n",
    "    return s"
   ]
  },
  {
   "cell_type": "code",
   "execution_count": 21,
   "metadata": {
    "collapsed": true
   },
   "outputs": [],
   "source": [
    "def removal(sent):\n",
    "    chopped = []\n",
    "    def remove_adjuncts(s):\n",
    "        tags = [word[5] for word in s]\n",
    "        if 'punct' not in tags:\n",
    "            chopped.append(s)\n",
    "        else:\n",
    "            new1, new2 = s[:tags.index('punct')], s[tags.index('punct')+1:]\n",
    "            for new in [new1, new2]:\n",
    "                if any(set(subj_list) & set([t[5] for t in new])) and any(set(aux_list) & set([t[5] for t in new])):\n",
    "                    remove_adjuncts(new)\n",
    "                else: pass\n",
    "    remove_adjuncts(sent)\n",
    "    return chopped"
   ]
  },
  {
   "cell_type": "code",
   "execution_count": 22,
   "metadata": {
    "collapsed": true
   },
   "outputs": [],
   "source": [
    "def remove_conj(s): #this is a miscellaneous method that removes all adverbs except for 'there', as well as leading conjunctions and prepositional phrases \n",
    "    to_delete = []\n",
    "    for i, word in enumerate(s):\n",
    "        if word[5] == 'advmod' and word[2] == 'RB' and not word[0].lower() == 'there':\n",
    "            to_delete.append(i)\n",
    "            if s[i-1][2] == ',' and s[i+1][2] == ',':\n",
    "                to_delete.append(i-1)\n",
    "    if s[0][2] == 'CC':\n",
    "        to_delete.append(0)\n",
    "    if s[0][2] == 'IN':\n",
    "        deps = [word[5] for word in s]\n",
    "        subj = [tag for tag in deps if tag in subj_list]\n",
    "        index = deps.index(subj[0])\n",
    "        for i in range(index):\n",
    "            to_delete.append(i)\n",
    "    new_s = [word for word in s if not s.index(word) in to_delete]\n",
    "    return new_s"
   ]
  },
  {
   "cell_type": "code",
   "execution_count": 23,
   "metadata": {
    "collapsed": true
   },
   "outputs": [],
   "source": [
    "def split_at_and(sent):\n",
    "    s = []\n",
    "    def split(s_):\n",
    "        tags = [word[2] for word in s_]\n",
    "        if 'CC' not in tags:\n",
    "            s.append(s_)\n",
    "        else:\n",
    "            sub1, sub2 = s_[:tags.index('CC')], s_[tags.index('CC')+1:]\n",
    "            try:\n",
    "                if sub1[0][5] in subj_list and any(set(aux_list) & set([w[5] for w in sub1])) and sub2[0][5] in subj_list and any(set(aux_list) & set([w[5] for w in sub2])):\n",
    "                    split(sub1)\n",
    "                    split(sub2)\n",
    "                else: \n",
    "                    s.append(s_)\n",
    "            except IndexError: \n",
    "                s.append(s_)\n",
    "    split(sent)\n",
    "    return s"
   ]
  },
  {
   "cell_type": "code",
   "execution_count": 24,
   "metadata": {
    "collapsed": true
   },
   "outputs": [],
   "source": [
    "def ask_source(s):\n",
    "    return 'How do you know that %s?' % ' '.join([word[0] for word in s])"
   ]
  },
  {
   "cell_type": "code",
   "execution_count": 25,
   "metadata": {
    "collapsed": true
   },
   "outputs": [],
   "source": [
    "def make_questions(s):\n",
    "    SourceQs = []\n",
    "    WhyQs = []\n",
    "    SubQs = []\n",
    "    WhereQs = []\n",
    "    AniQs = []\n",
    "    WhenQs = []\n",
    "    NEQs = []\n",
    "    SpecQs = []\n",
    "    switch_you_me = you_and_me(s)\n",
    "    tagged_sent = return_tags(switch_you_me)\n",
    "    split_matrix_sent = separate_matrix(tagged_sent)\n",
    "    for s_ in [s for s in split_matrix_sent if not s in [[], None]]:\n",
    "        ands_removed = split_at_and(s_)\n",
    "        for s__ in [s for s in ands_removed if not s in [[], None]]:\n",
    "            simplified_nested = simplify_nested(s__)\n",
    "            partial_sentences = removal(simplified_nested)\n",
    "            for s___ in [s for s in partial_sentences if not s in [[], None]]:\n",
    "                removed_conjs = remove_conj(s___)\n",
    "                changed_pronouns = change_view(removed_conjs)\n",
    "                source_q = ask_source(changed_pronouns)\n",
    "                SourceQs.append(source_q)\n",
    "                added_aux = set_verb(changed_pronouns)\n",
    "                reversed_subj = reverse_subj_aux(added_aux)\n",
    "                why_q = why(reversed_subj)\n",
    "                WhyQs.append(why_q)\n",
    "                if not any(set(time_list) & set([word[4] for word in tagged_sent] + [word[2] for word in tagged_sent])):\n",
    "                    when_q = when(reversed_subj)\n",
    "                    WhenQs.append(when_q)\n",
    "                where_q = where(reversed_subj)\n",
    "                WhereQs.append(where_q)\n",
    "                sub_q = subcategorization(reversed_subj)\n",
    "                SubQs.append(sub_q)\n",
    "                ne_q = ne_questions(reversed_subj)\n",
    "                NEQs.append(ne_q)\n",
    "                ani_q = animacy(reversed_subj)\n",
    "                AniQs.append(ani_q)\n",
    "                speco_q = specify_obj(reversed_subj)\n",
    "                spec_q = specify_subj(changed_pronouns)\n",
    "                SpecQs.append(spec_q)\n",
    "                SpecQs.append(speco_q)\n",
    "    return SubQs, WhereQs, WhyQs, WhenQs, AniQs, SpecQs, SourceQs, NEQs"
   ]
  },
  {
   "cell_type": "code",
   "execution_count": 26,
   "metadata": {
    "collapsed": true
   },
   "outputs": [],
   "source": [
    "def ask_random_q(s):\n",
    "    questions = make_questions(s)\n",
    "    qs = flatten(questions)\n",
    "    Qs = [q for q in qs if q is not None]\n",
    "    i = random.randint(0,len(Qs)-1)\n",
    "    return qs[i]"
   ]
  },
  {
   "cell_type": "code",
   "execution_count": 27,
   "metadata": {
    "collapsed": true
   },
   "outputs": [],
   "source": [
    "def flatten(S):\n",
    "    S = list(S)\n",
    "    if S == []:\n",
    "        return S\n",
    "    if isinstance(S[0], list):\n",
    "        return flatten(S[0]) + flatten(S[1:])\n",
    "    return S[:1] + flatten(S[1:])"
   ]
  },
  {
   "cell_type": "code",
   "execution_count": 28,
   "metadata": {},
   "outputs": [
    {
     "data": {
      "text/plain": [
       "['Where is the certain man eating?',\n",
       " 'Why is the certain man eating?',\n",
       " 'When is the certain man eating?',\n",
       " 'Which man is eating?',\n",
       " 'How do you know that a certain man is eating?']"
      ]
     },
     "execution_count": 28,
     "metadata": {},
     "output_type": "execute_result"
    }
   ],
   "source": [
    "# ONEA 1\n",
    "# target question: 'Which man is eating?'\n",
    "qs = make_questions('A certain man is eating.')\n",
    "flatten(qs)"
   ]
  },
  {
   "cell_type": "code",
   "execution_count": 29,
   "metadata": {},
   "outputs": [
    {
     "data": {
      "text/plain": [
       "['Where is Peter eating?',\n",
       " 'Why is Peter eating?',\n",
       " 'When is Peter eating?',\n",
       " 'What else do we know about Peter?',\n",
       " 'How do you know that Peter is eating?',\n",
       " 'When did Peter live?',\n",
       " \"What is Peter 's real name?\",\n",
       " \"What is Peter 's full name?\",\n",
       " 'What was Peter‘s real name?',\n",
       " 'Where did Peter grow up?',\n",
       " 'How long has Peter been around?',\n",
       " 'When is Peter‘s birthday?',\n",
       " 'Who is Peter?',\n",
       " 'When was Peter born?',\n",
       " 'Where did Peter come from?',\n",
       " \"What is Peter 's address?\",\n",
       " 'Who are Peter‘s parents?',\n",
       " 'What ethnicity is Peter?',\n",
       " 'Where did Peter grow up?',\n",
       " 'What nationality is Peter?',\n",
       " \"What 's Peter 's real name?\",\n",
       " 'Where did Peter live?',\n",
       " 'Where was Peter born?',\n",
       " 'Where did Peter go to school?',\n",
       " 'What country did Peter hail from?',\n",
       " 'What college did Peter go to?',\n",
       " 'What does Peter mean?',\n",
       " 'How strong is Peter?',\n",
       " 'Where was Peter born?',\n",
       " 'Where does the name Peter come from?',\n",
       " \"When is Peter 's Birthday?\",\n",
       " 'Where does Peter live , what state and city?',\n",
       " \"What is Peter 's last name?\",\n",
       " 'What nationality is Peter?',\n",
       " 'Does Peter have a Middle Name?',\n",
       " 'How tall is Peter?',\n",
       " \"What is Peter 's full name?\",\n",
       " 'Where Did Peter Go To College?',\n",
       " \"What is Peter 's Last Name?\",\n",
       " 'Who is Peter?',\n",
       " \"What is Peter 's full name?\",\n",
       " 'Who is Peter in love with?',\n",
       " 'What year was Peter born in?',\n",
       " 'Which year was Peter born?',\n",
       " 'What race is Peter?']"
      ]
     },
     "execution_count": 29,
     "metadata": {},
     "output_type": "execute_result"
    }
   ],
   "source": [
    "# ONEA 2\n",
    "# target questions: 'What is he eating?', 'Why is he eating?', 'What else do we know about Peter?'\n",
    "qs = make_questions('Peter is eating.')\n",
    "flatten(qs)"
   ]
  },
  {
   "cell_type": "code",
   "execution_count": 30,
   "metadata": {},
   "outputs": [
    {
     "data": {
      "text/plain": [
       "['Why is steel strong?',\n",
       " 'When is steel strong?',\n",
       " 'Which steel is strong?',\n",
       " 'How do you know that steel is strong?']"
      ]
     },
     "execution_count": 30,
     "metadata": {},
     "output_type": "execute_result"
    }
   ],
   "source": [
    "# ONEA 3\n",
    "# target question: 'What is steel strong enough for?'\n",
    "qs = make_questions('Steel is strong enough.')\n",
    "flatten(qs)"
   ]
  },
  {
   "cell_type": "code",
   "execution_count": 31,
   "metadata": {},
   "outputs": [
    {
     "data": {
      "text/plain": [
       "['What has Peter eaten?',\n",
       " 'Where has Peter eaten?',\n",
       " 'Why has Peter eaten?',\n",
       " 'When has Peter eaten?',\n",
       " 'What else do we know about Peter?',\n",
       " 'How do you know that Peter has eaten?']"
      ]
     },
     "execution_count": 31,
     "metadata": {},
     "output_type": "execute_result"
    }
   ],
   "source": [
    "# ONEA 4\n",
    "# target questions:  'Did he have enough?', 'Where do you know that from?', 'Did he use a spoon?'\n",
    "qs = make_questions('Peter has eaten.')\n",
    "flatten(qs)[:6]"
   ]
  },
  {
   "cell_type": "code",
   "execution_count": 32,
   "metadata": {},
   "outputs": [
    {
     "data": {
      "text/plain": [
       "['Where is the man eating?',\n",
       " 'Why is the man eating?',\n",
       " 'When is the man eating?',\n",
       " 'Which man is eating?',\n",
       " 'How do you know that a man is eating?']"
      ]
     },
     "execution_count": 32,
     "metadata": {},
     "output_type": "execute_result"
    }
   ],
   "source": [
    "# ONEA 5\n",
    "# target question: 'What else do we know about the man?'\n",
    "qs = make_questions('A man is eating.')\n",
    "flatten(qs)"
   ]
  },
  {
   "cell_type": "code",
   "execution_count": 33,
   "metadata": {},
   "outputs": [
    {
     "data": {
      "text/plain": [
       "['Why did John see the chair?',\n",
       " 'When did John see the chair?',\n",
       " 'What else do we know about John?',\n",
       " 'Which chair did John see?',\n",
       " 'What is the chair about?']"
      ]
     },
     "execution_count": 33,
     "metadata": {},
     "output_type": "execute_result"
    }
   ],
   "source": [
    "# ONEA 6\n",
    "# target question: 'What else do we know about John?'\n",
    "qs = make_questions('John saw a chair.')\n",
    "flatten(qs)[:5]"
   ]
  },
  {
   "cell_type": "code",
   "execution_count": 34,
   "metadata": {},
   "outputs": [
    {
     "data": {
      "text/plain": [
       "['Where is Peter eating sitting on the bag?',\n",
       " 'Why is Peter eating sitting on the bag?',\n",
       " 'When is Peter eating sitting on the bag?',\n",
       " 'What else do we know about Peter?',\n",
       " 'Which bag is Peter eating sitting on?',\n",
       " 'What is the bag about?']"
      ]
     },
     "execution_count": 34,
     "metadata": {},
     "output_type": "execute_result"
    }
   ],
   "source": [
    "# ONEA 7\n",
    "# target question: 'What is in the bag?'\n",
    "qs = make_questions('Peter is eating sitting on a bag.')\n",
    "flatten(qs)[:6]"
   ]
  },
  {
   "cell_type": "code",
   "execution_count": 35,
   "metadata": {},
   "outputs": [
    {
     "data": {
      "text/plain": [
       "['Why is Peter solving the puzzle?',\n",
       " 'When is Peter solving the puzzle?',\n",
       " 'What else do we know about Peter?',\n",
       " 'Which puzzle is Peter solving?',\n",
       " 'What is the puzzle about?',\n",
       " 'How do you know that Peter is solving a puzzle?']"
      ]
     },
     "execution_count": 35,
     "metadata": {},
     "output_type": "execute_result"
    }
   ],
   "source": [
    "# ONEA 8\n",
    "# target question: 'What is the puzzle about?'\n",
    "qs = make_questions('Peter is solving a puzzle.')\n",
    "flatten(qs)[:6]"
   ]
  },
  {
   "cell_type": "code",
   "execution_count": 36,
   "metadata": {},
   "outputs": [
    {
     "data": {
      "text/plain": [
       "['Why does Peter love the friendly girl?',\n",
       " 'When does Peter love the friendly girl?',\n",
       " 'What else do we know about Peter?',\n",
       " 'Which friendly girl does Peter love?',\n",
       " 'What is the friendly girl about?']"
      ]
     },
     "execution_count": 36,
     "metadata": {},
     "output_type": "execute_result"
    }
   ],
   "source": [
    "# ONEA 9\n",
    "# preferred target question: 'Which friendly girl does Peter love?'\n",
    "qs = make_questions('Peter loves a friendly girl.')\n",
    "flatten(qs)[:5]"
   ]
  },
  {
   "cell_type": "code",
   "execution_count": 37,
   "metadata": {},
   "outputs": [
    {
     "data": {
      "text/plain": [
       "['Where is Peter eating the sandwich?',\n",
       " 'Why is Peter eating the sandwich?',\n",
       " 'When is Peter eating the sandwich?',\n",
       " 'What else do we know about Peter?',\n",
       " 'Which sandwich is Peter eating?',\n",
       " 'What is the sandwich about?',\n",
       " 'How do you know that Peter is eating a sandwich?']"
      ]
     },
     "execution_count": 37,
     "metadata": {},
     "output_type": "execute_result"
    }
   ],
   "source": [
    "# ONEA 10\n",
    "# preferred target question: 'Is the sandwich with ham?'\n",
    "qs = make_questions('Peter is eating a sandwich.')\n",
    "flatten(qs)[:7]"
   ]
  },
  {
   "cell_type": "code",
   "execution_count": 38,
   "metadata": {},
   "outputs": [
    {
     "data": {
      "text/plain": [
       "['What was your sister reading?',\n",
       " 'Why was your sister reading?',\n",
       " 'When was your sister reading?',\n",
       " 'How do you know that your sister was reading?']"
      ]
     },
     "execution_count": 38,
     "metadata": {},
     "output_type": "execute_result"
    }
   ],
   "source": [
    "# OWN EXAMPLE 1\n",
    "# show better example of missing argument recognition, pronoun change\n",
    "qs = make_questions('My sister was reading.')\n",
    "flatten(qs)"
   ]
  },
  {
   "cell_type": "code",
   "execution_count": 39,
   "metadata": {},
   "outputs": [
    {
     "data": {
      "text/plain": [
       "['Why did you want to go to South America?',\n",
       " 'Which South America America did you want to go to?',\n",
       " 'How do you know that when you were younger?',\n",
       " 'How do you know that you wanted to go to South America?',\n",
       " 'What is the largest city in South America?',\n",
       " 'How many people live in South America?']"
      ]
     },
     "execution_count": 39,
     "metadata": {},
     "output_type": "execute_result"
    }
   ],
   "source": [
    "# OWN EXAMPLE 2\n",
    "# show sentence splitting, question generation with Named Entities, pronoun change\n",
    "qs = make_questions('When I was younger, I really wanted to go to South America.')\n",
    "flatten(qs)"
   ]
  },
  {
   "cell_type": "code",
   "execution_count": 40,
   "metadata": {},
   "outputs": [
    {
     "data": {
      "text/plain": [
       "['What was the fat friendly old white man waiting?',\n",
       " 'What was the fat friendly old white man waiting for?',\n",
       " 'Who was the fat friendly old white man waiting for?',\n",
       " 'Why was the fat friendly old white man waiting?',\n",
       " 'When was the fat friendly old white man waiting?',\n",
       " 'How do you know that the fat friendly old white man was waiting?']"
      ]
     },
     "execution_count": 40,
     "metadata": {},
     "output_type": "execute_result"
    }
   ],
   "source": [
    "# OWN EXAMPLE 3\n",
    "# show subject recognition\n",
    "qs = make_questions('The fat friendly old white man was waiting.')\n",
    "flatten(qs)"
   ]
  },
  {
   "cell_type": "code",
   "execution_count": 41,
   "metadata": {},
   "outputs": [
    {
     "data": {
      "text/plain": [
       "['Why were you reading that you asked for the kind of police protection?',\n",
       " 'When were you reading that you asked for the kind of police protection?',\n",
       " 'Which that were you reading?',\n",
       " 'Which that you asked for a kind were you reading?',\n",
       " 'Which that you asked for a kind of police protection were you reading?',\n",
       " 'How do you know that you were reading that you asked for a kind of police protection?']"
      ]
     },
     "execution_count": 41,
     "metadata": {},
     "output_type": "execute_result"
    }
   ],
   "source": [
    "# SNOWDEN 1\n",
    "# target question: 'Why did you ask for police protection?'\n",
    "qs = make_questions('Because, I was reading that you asked for a kind of police protection.')\n",
    "flatten(qs)"
   ]
  },
  {
   "cell_type": "code",
   "execution_count": 42,
   "metadata": {},
   "outputs": [
    {
     "data": {
      "text/plain": [
       "['What did you read?',\n",
       " 'What did you read?',\n",
       " 'Why did you read?',\n",
       " 'Why did you ask for the kind of police protection?',\n",
       " 'When did you read?',\n",
       " 'When did you ask for the kind of police protection?',\n",
       " 'Which kind did you ask for?',\n",
       " 'What is the kind about?',\n",
       " 'Which kind of police protection did you ask for?',\n",
       " 'What is the kind of police protection about?',\n",
       " 'How do you know that you read?',\n",
       " 'How do you know that you asked for a kind of police protection?']"
      ]
     },
     "execution_count": 42,
     "metadata": {},
     "output_type": "execute_result"
    }
   ],
   "source": [
    "# SNOWDEN 1_2\n",
    "qs = make_questions('Because, I read that you asked for a kind of police protection.')\n",
    "flatten(qs)"
   ]
  },
  {
   "cell_type": "code",
   "execution_count": 43,
   "metadata": {},
   "outputs": [
    {
     "data": {
      "text/plain": [
       "['What do you sleep?',\n",
       " 'Why are there significant threats?',\n",
       " 'Why do you sleep?',\n",
       " 'When are there significant threats?',\n",
       " 'When do you sleep?',\n",
       " 'Which there are significant threats?',\n",
       " 'How do you know that there are significant threats?',\n",
       " 'How do you know that you sleep?']"
      ]
     },
     "execution_count": 43,
     "metadata": {},
     "output_type": "execute_result"
    }
   ],
   "source": [
    "# SNOWDEN 2\n",
    "# target question: 'What kind of threat?'\n",
    "qs = make_questions('There are significant threats but I sleep very well.')\n",
    "flatten(qs)"
   ]
  },
  {
   "cell_type": "code",
   "execution_count": 44,
   "metadata": {},
   "outputs": [
    {
     "data": {
      "text/plain": [
       "['What was there the article that did come out in the online outlet called BuzzFeed on?',\n",
       " 'Who was there the article that did come out in the online outlet called BuzzFeed on?',\n",
       " 'Why was there the article that did come out in the online outlet called BuzzFeed?',\n",
       " 'When was there the article that did come out in the online outlet called BuzzFeed?',\n",
       " 'What else do we know about BuzzFeed?',\n",
       " 'Which there was an article that come out in an online outlet called BuzzFeed?',\n",
       " 'Which there was an article that come out in an online outlet called BuzzFeed?',\n",
       " 'Which online outlet was there an article that did come out in?',\n",
       " 'What is the online outlet about?',\n",
       " 'How do you know that there was an article that came out in an online outlet called BuzzFeed?',\n",
       " 'What year did BuzzFeed begin?',\n",
       " 'Who is the CEO of BuzzFeed?',\n",
       " 'What year was BuzzFeed founded?',\n",
       " 'What in the world is BuzzFeed?',\n",
       " 'What does BuzzFeed stand for?',\n",
       " 'Who is in charge of BuzzFeed?',\n",
       " 'What is the meaning of BuzzFeed?',\n",
       " 'Where is BuzzFeed located ?',\n",
       " 'What does BuzzFeed stand for?',\n",
       " 'When was BuzzFeed founded?',\n",
       " 'What does BuzzFeed mean?']"
      ]
     },
     "execution_count": 44,
     "metadata": {},
     "output_type": "execute_result"
    }
   ],
   "source": [
    "# SNOWDEN 3\n",
    "# target question: 'What kind of article?'\n",
    "qs = make_questions('There was an article that came out in an online outlet called BuzzFeed.')\n",
    "flatten(qs)"
   ]
  },
  {
   "cell_type": "code",
   "execution_count": 45,
   "metadata": {},
   "outputs": [
    {
     "data": {
      "text/plain": [
       "['Why did they interview officials from the Pentagon?',\n",
       " 'When did they interview officials from the Pentagon?',\n",
       " 'What else do we know about them?',\n",
       " 'What else do we know about Pentagon?',\n",
       " 'Which officials did they interview?',\n",
       " 'Which officials from the Pentagon did they interview?',\n",
       " 'How do you know that they interviewed officials from the Pentagon?',\n",
       " 'What year did Pentagon begin?',\n",
       " 'Who is the CEO of Pentagon?',\n",
       " 'What year was Pentagon founded?',\n",
       " 'What in the world is Pentagon?',\n",
       " 'What does Pentagon stand for?',\n",
       " 'Who is in charge of Pentagon?',\n",
       " 'What is the meaning of Pentagon?',\n",
       " 'Where is Pentagon located ?',\n",
       " 'What does Pentagon stand for?',\n",
       " 'When was Pentagon founded?',\n",
       " 'What does Pentagon mean?']"
      ]
     },
     "execution_count": 45,
     "metadata": {},
     "output_type": "execute_result"
    }
   ],
   "source": [
    "# SNOWDEN 4\n",
    "# target question: 'How did they interview them?\n",
    "qs = make_questions('They interviewed officials from the Pentagon, from the National Security Agency.')\n",
    "flatten(qs)"
   ]
  },
  {
   "cell_type": "code",
   "execution_count": 46,
   "metadata": {},
   "outputs": [
    {
     "data": {
      "text/plain": [
       "['Why did they give them anonymity to be able to say what they wanted?',\n",
       " 'When did they give them anonymity to be able to say what they wanted?',\n",
       " 'What else do we know about them?',\n",
       " 'What else do we know about them?',\n",
       " 'What else do we know about them?',\n",
       " 'Which anonymity to be able to say what they wanted?',\n",
       " 'Which anonymity did they give them?',\n",
       " 'Which anonymity to be able to say what did they give them?',\n",
       " 'How do you know that they gave them anonymity to be able to say what they wanted?']"
      ]
     },
     "execution_count": 46,
     "metadata": {},
     "output_type": "execute_result"
    }
   ],
   "source": [
    "# SNOWDEN 5\n",
    "# target question: 'So what did they say?'\n",
    "qs = make_questions('They gave them anonymity to be able to say what they wanted.')\n",
    "flatten(qs)"
   ]
  },
  {
   "cell_type": "code",
   "execution_count": 48,
   "metadata": {},
   "outputs": [
    {
     "data": {
      "text/plain": [
       "['What what did they tell the reporter was?',\n",
       " 'Why did they want to murder you?',\n",
       " 'When what did they tell the reporter was?',\n",
       " 'When did they want to murder you?',\n",
       " 'What else do we know about them?',\n",
       " 'What else do we know about them?',\n",
       " 'How do you know that what they told the reporter was?',\n",
       " 'How do you know that they wanted to murder you?']"
      ]
     },
     "execution_count": 48,
     "metadata": {},
     "output_type": "execute_result"
    }
   ],
   "source": [
    "# SNOWDEN 6\n",
    "# target question: 'Who said that?'\n",
    "qs = make_questions('What they told the reporter was that they wanted to murder me.')\n",
    "flatten(qs)"
   ]
  },
  {
   "cell_type": "code",
   "execution_count": 49,
   "metadata": {},
   "outputs": [
    {
     "data": {
      "text/plain": [
       "['Why are these individuals acting government officials?',\n",
       " 'When are these individuals acting government officials?',\n",
       " 'Which government officials are these individuals acting?',\n",
       " 'How do you know that these individuals are acting government officials?']"
      ]
     },
     "execution_count": 49,
     "metadata": {},
     "output_type": "execute_result"
    }
   ],
   "source": [
    "# SNOWDEN 7\n",
    "# target question: 'What did they say, how would they want to murder me?'\n",
    "qs = make_questions('These individuals are acting government officials.')\n",
    "flatten(qs)"
   ]
  },
  {
   "cell_type": "code",
   "execution_count": 50,
   "metadata": {},
   "outputs": [
    {
     "data": {
      "text/plain": [
       "['What did they say they would be happy?',\n",
       " 'What did they say they would be happy?',\n",
       " 'What would they love to put the bullet in your head into?',\n",
       " 'Who would they love to put the bullet in your head into?',\n",
       " 'Why did they say they would be happy?',\n",
       " 'Why would they love to put the bullet in your head?',\n",
       " 'When did they say they would be happy?',\n",
       " 'When would they love to put the bullet in your head?',\n",
       " 'What else do we know about them?',\n",
       " 'What else do we know about them?',\n",
       " 'What else do we know about them?',\n",
       " 'Which bullet would they love to put?',\n",
       " 'What is the bullet about?',\n",
       " 'Which bullet in your head would they love to put?',\n",
       " 'What is the bullet in your head about?',\n",
       " 'How do you know that they said they would be happy?',\n",
       " 'How do you know that they would love to put a bullet in your head?']"
      ]
     },
     "execution_count": 50,
     "metadata": {},
     "output_type": "execute_result"
    }
   ],
   "source": [
    "# SNOWDEN 8\n",
    "# target question: 'In what other way would they like to murder me?'\n",
    "qs = make_questions('They said they would be happy, they would love to put a bullet in my head.')\n",
    "flatten(qs)"
   ]
  },
  {
   "cell_type": "code",
   "execution_count": 51,
   "metadata": {},
   "outputs": [
    {
     "data": {
      "text/plain": [
       "['How were you returning from the grocery store?',\n",
       " 'What were you returning from the grocery store to?',\n",
       " 'Who were you returning from the grocery store to?',\n",
       " 'Why would they love to poison you?',\n",
       " 'Why were you returning from the grocery store?',\n",
       " 'When would they love to poison you?',\n",
       " 'When were you returning from the grocery store?',\n",
       " 'What else do we know about them?',\n",
       " 'How do you know that they would love to poison you?',\n",
       " 'How do you know that you were returning from the grocery store?']"
      ]
     },
     "execution_count": 51,
     "metadata": {},
     "output_type": "execute_result"
    }
   ],
   "source": [
    "# SNOWDEN 9\n",
    "# target question: 'What would be the result of being poisoned like that?'\n",
    "qs = make_questions('They would love to poison me as I was returning from the grocery store.')\n",
    "flatten(qs)"
   ]
  },
  {
   "cell_type": "code",
   "execution_count": 52,
   "metadata": {},
   "outputs": [
    {
     "data": {
      "text/plain": [
       "['Why are you alive?',\n",
       " 'When are you alive?',\n",
       " 'How do you know that you are alive?']"
      ]
     },
     "execution_count": 52,
     "metadata": {},
     "output_type": "execute_result"
    }
   ],
   "source": [
    "# SNOWDEN 10\n",
    "# target question: 'And what else can be said about your wellbeing?'\n",
    "qs = make_questions('Right, but I am still alive.')\n",
    "flatten(qs)"
   ]
  },
  {
   "cell_type": "code",
   "execution_count": 53,
   "metadata": {},
   "outputs": [
    {
     "data": {
      "text/plain": [
       "['Why do you not lose sleep?',\n",
       " 'When do you not lose sleep?',\n",
       " 'Which sleep do you not lose?',\n",
       " 'How do you know that you do not lose sleep?']"
      ]
     },
     "execution_count": 53,
     "metadata": {},
     "output_type": "execute_result"
    }
   ],
   "source": [
    "# SNOWDEN 11\n",
    "# target question: 'Why is that?'\n",
    "qs = make_questions('and I do not lose sleep.')\n",
    "flatten(qs)"
   ]
  },
  {
   "cell_type": "code",
   "execution_count": 54,
   "metadata": {},
   "outputs": [
    {
     "data": {
      "text/plain": [
       "['Why have you done what you feel you needed to do?',\n",
       " 'When have you done what you feel you needed to do?',\n",
       " 'Which what have you done?',\n",
       " 'How do you know that you have done what you feel you needed to do?']"
      ]
     },
     "execution_count": 54,
     "metadata": {},
     "output_type": "execute_result"
    }
   ],
   "source": [
    "# SNOWDEN 12\n",
    "# target question: 'Why did you feel that way?'\n",
    "qs = make_questions('because I have done what I feel I needed to do.')\n",
    "flatten(qs)"
   ]
  }
 ],
 "metadata": {
  "kernelspec": {
   "display_name": "Python 3",
   "language": "python",
   "name": "python3"
  },
  "language_info": {
   "codemirror_mode": {
    "name": "ipython",
    "version": 3
   },
   "file_extension": ".py",
   "mimetype": "text/x-python",
   "name": "python",
   "nbconvert_exporter": "python",
   "pygments_lexer": "ipython3",
   "version": "3.6.3"
  }
 },
 "nbformat": 4,
 "nbformat_minor": 2
}
