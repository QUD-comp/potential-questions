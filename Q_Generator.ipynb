{
 "cells": [
  {
   "cell_type": "code",
   "execution_count": 1,
   "metadata": {
    "collapsed": true
   },
   "outputs": [],
   "source": [
    "import pandas as pd\n",
    "import re\n",
    "import nltk\n",
    "import random\n",
    "from nltk.tag import PerceptronTagger"
   ]
  },
  {
   "cell_type": "code",
   "execution_count": 2,
   "metadata": {
    "collapsed": true
   },
   "outputs": [],
   "source": [
    "relevantTags=['ACT','ANIMAL','ARTIFACT','ATTRIBUTE','BODY','COGNITION','COMMUNICATION','EVENT','FEELING','FOOD','GROUP','LOCATION','NATURAL OBJECT','PERSON','PHENOMENON','POSSESSION','PROCESS','QUANTITY','RELATION','STATE','SUBSTANCE','TIME']\n",
    "adjustedTags=['NN_'+tag for tag in relevantTags]+['NNS_'+tag for tag in relevantTags]+['NNP_'+tag for tag in relevantTags]+['NNPS_'+tag for tag in relevantTags]"
   ]
  },
  {
   "cell_type": "code",
   "execution_count": 3,
   "metadata": {},
   "outputs": [
    {
     "data": {
      "text/html": [
       "<div>\n",
       "<style>\n",
       "    .dataframe thead tr:only-child th {\n",
       "        text-align: right;\n",
       "    }\n",
       "\n",
       "    .dataframe thead th {\n",
       "        text-align: left;\n",
       "    }\n",
       "\n",
       "    .dataframe tbody tr th {\n",
       "        vertical-align: top;\n",
       "    }\n",
       "</style>\n",
       "<table border=\"1\" class=\"dataframe\">\n",
       "  <thead>\n",
       "    <tr style=\"text-align: right;\">\n",
       "      <th></th>\n",
       "      <th>Unnamed: 0</th>\n",
       "      <th>Q</th>\n",
       "      <th>TAG</th>\n",
       "    </tr>\n",
       "  </thead>\n",
       "  <tbody>\n",
       "    <tr>\n",
       "      <th>0</th>\n",
       "      <td>0</td>\n",
       "      <td>What are NNS_ARTIFACT called ?</td>\n",
       "      <td>NNS_ARTIFACT</td>\n",
       "    </tr>\n",
       "    <tr>\n",
       "      <th>1</th>\n",
       "      <td>1</td>\n",
       "      <td>When did NNP_PERSON live ?</td>\n",
       "      <td>NNP_PERSON</td>\n",
       "    </tr>\n",
       "    <tr>\n",
       "      <th>2</th>\n",
       "      <td>2</td>\n",
       "      <td>How old is NNP_GROUP ?</td>\n",
       "      <td>NNP_GROUP</td>\n",
       "    </tr>\n",
       "    <tr>\n",
       "      <th>3</th>\n",
       "      <td>5</td>\n",
       "      <td>What does NNP_ARTIFACT mean ?</td>\n",
       "      <td>NNP_ARTIFACT</td>\n",
       "    </tr>\n",
       "    <tr>\n",
       "      <th>4</th>\n",
       "      <td>6</td>\n",
       "      <td>What does NNP_GROUP stand for ?</td>\n",
       "      <td>NNP_GROUP</td>\n",
       "    </tr>\n",
       "  </tbody>\n",
       "</table>\n",
       "</div>"
      ],
      "text/plain": [
       "   Unnamed: 0                                Q           TAG\n",
       "0           0   What are NNS_ARTIFACT called ?  NNS_ARTIFACT\n",
       "1           1       When did NNP_PERSON live ?    NNP_PERSON\n",
       "2           2           How old is NNP_GROUP ?     NNP_GROUP\n",
       "3           5    What does NNP_ARTIFACT mean ?  NNP_ARTIFACT\n",
       "4           6  What does NNP_GROUP stand for ?     NNP_GROUP"
      ]
     },
     "execution_count": 3,
     "metadata": {},
     "output_type": "execute_result"
    }
   ],
   "source": [
    "df=pd.read_csv('question_templates.csv')\n",
    "df.head()"
   ]
  },
  {
   "cell_type": "code",
   "execution_count": 4,
   "metadata": {
    "collapsed": true
   },
   "outputs": [],
   "source": [
    "def tokenize_and_tag(inpt):\n",
    "    tagger=PerceptronTagger()\n",
    "    lines=re.split('[?!.]',inpt)\n",
    "    txt=open('txt','w')\n",
    "    for line in lines:\n",
    "        tokenized=nltk.word_tokenize(line)\n",
    "        tagged=tagger.tag(tokenized)\n",
    "        for tup in tagged:\n",
    "            txt.write(tup[0]+'\\t'+tup[1]+'\\n')\n",
    "        txt.write('\\n')\n",
    "    txt.close()"
   ]
  },
  {
   "cell_type": "code",
   "execution_count": 5,
   "metadata": {
    "collapsed": true
   },
   "outputs": [],
   "source": [
    "def get_mwes_and_ssts(file):    #input is a 'SUPERSENSE TAGGED' file\n",
    "    with open(file,'r') as f:\n",
    "        text=f.read()\n",
    "    sentences=text.split('\\n\\n')\n",
    "    sentlist=[]\n",
    "    for sent in sentences:\n",
    "        s=sent.split('\\n')\n",
    "        wordlist=[]\n",
    "        for s_ in s:\n",
    "            words=s_.split('\\t')\n",
    "            wordlist.append(words)\n",
    "        sentlist.append([word for word in wordlist if not word==['']])\n",
    "    sentlist=[s for s in sentlist if not s==['']]\n",
    "    qs=[]\n",
    "    for s in sentlist:\n",
    "        q={}\n",
    "        s=s[::-1]    #get Multiword Expressions\n",
    "        pattern=[word[6] for word in s]\n",
    "        for j,sym in enumerate(pattern):\n",
    "            if sym=='_':\n",
    "                s[j+1][1]=s[j+1][1]+' '+s[j][1]\n",
    "        s=s[::-1]\n",
    "        for word in s:    #get tags of (Multiword) nouns\n",
    "            try:\n",
    "                if word[7] in relevantTags:\n",
    "                    q.update({word[1]:word[3]+'_'+word[7]})    #add (Multi)word and POS+tag to dict\n",
    "            except IndexError:\n",
    "                pass\n",
    "        if not q=={}:\n",
    "            qs.append(q)\n",
    "    return qs"
   ]
  },
  {
   "cell_type": "code",
   "execution_count": 6,
   "metadata": {
    "collapsed": true
   },
   "outputs": [],
   "source": [
    "def make_questions(qs,df):    #input: SST dictionary and template df\n",
    "    questions=[]\n",
    "    for q in qs:\n",
    "        print(q)\n",
    "        for key,val in q.items():\n",
    "            df_selection=df[df.TAG==val]\n",
    "            qlist=df_selection['Q']\n",
    "            for ql in qlist: \n",
    "                new=ql.replace(val,key)    #replace tag in template with word \n",
    "                questions.append(new)\n",
    "    return questions"
   ]
  },
  {
   "cell_type": "code",
   "execution_count": 7,
   "metadata": {
    "collapsed": true
   },
   "outputs": [],
   "source": [
    "def questionize(inpt):\n",
    "    tokenize_and_tag(inpt)\n",
    "    ! ./sst.sh txt    #shell command: run Supersense Tagger on POS-tagged file\n",
    "    qs=get_mwes_and_ssts('txt.pred.tags')\n",
    "    questions=make_questions(qs,df)\n",
    "    return questions"
   ]
  },
  {
   "cell_type": "code",
   "execution_count": 8,
   "metadata": {
    "collapsed": true
   },
   "outputs": [],
   "source": [
    "sza='Born Solána Rowe on November 8, 1990, R&B artist SZA garnered industry buzz through independently released work, before teaming with Top Dawg Entertainment for her third EP, Z. She hit the big time in 2017 with her first full-length album, Ctrl, which spawned the singles \"Love Galore,\" \"The Weekend\" and \"Broken Clocks,\" en route to platinum certification. The Grammy-nominated singer and songwriter has also collaborated with such popular acts as Rihanna, Maroon 5 and Kendrick Lamar'\n",
    "tonya='In 1991, Tonya Harding won her first national skating title and became the first American woman to complete a triple axel in competition. In 1994, she earned notoriety when ex-husband Jeff Gillooly hired a hitman to assault skater Nancy Kerrigan at the Olympic trials. Harding pleaded guilty to hindering the investigation into Kerrigan\\'s attack, and was subsequently banned from competing in the U.S. for life. Since then, she has made guest appearances on shows like Rosanne, Larry King Live, The Weakest Link and Celebrity Boxing. Harding returned to the public eye with the big screen release of I, Tonya in late 2017, and was named to compete on Dancing with the Stars the following spring.'\n",
    "mary='Mary Magdalene was a figure in the Bible\\'s New Testament who was one of Jesus\\'s most loyal followers and is said to have been the first to witness his resurrection. While the Western Christian Church portrayed her as a repentant sinner for centuries, newer research has disputed this interpretation, and the discovery of the Gnostic Gospels, including the Gospel of Mary, describes Mary as a reflective, wise spiritualist favored by Jesus.'\n",
    "baobab='Baobab is the common name of a genus of trees (Adansonia). There are nine species. Six species live in the drier parts of Madagascar, two in mainland Africa, one in Australia and three in India, Ranchi. The baobab is the national tree of Madagascar. Other common names include \\'boab\\', \\'boaboa\\', \\'bottle tree\\', \\'the tree of life\\', \\'upside-down tree\\', and \\'monkey bread tree\\'. The trees reach heights of 5 to 30 metres (16 to 98 ft) and trunk diameters of 7 to 11 metres (23 to 36 ft). Its trunk can hold up to 120,000 litres of water. For most of the year, the tree is leafless, and looks very much like it has its roots sticking up in the air. Baobabs are one of the largest and most important trees in all of where they grow, as they are able to provide shelter and wood. The leaves of the tree are used for making soup and it has some medicinal purposes in some regions of Africa '"
   ]
  },
  {
   "cell_type": "code",
   "execution_count": 9,
   "metadata": {
    "scrolled": true
   },
   "outputs": [
    {
     "name": "stdout",
     "output_type": "stream",
     "text": [
      "loading WordNet supersense lexicon... done: 147306 entries\n",
      "loading lexicon semcor_mwes 12744 entries\n",
      "loading lexicon wordnet_mwes 63897 entries\n",
      "loading lexicon said 0 entries\n",
      "loading lexicon phrases_dot_net 6245 entries\n",
      "loading lexicon wikimwe 321207 entries\n",
      "loading lexicon enwikt 62819 entries\n",
      "loading word clusters...\n",
      "done.\n",
      "loading model from sst.model ...\n",
      "done.\n",
      "B-GROUP Ī Ī O O-TIME O O O O B-GROUP Ī Ī Ī O-PERSON O-social B-RELATION Ī O O O-change O-ACT O O O-social O B-GROUP Ī Ī O O O O-GROUP O O-EVENT\n",
      "decoding time: 0.510606050491\n",
      "30.1558208466\n",
      "{'Born Solána Rowe': 'NNP_GROUP', 'November': 'NNP_TIME', 'R & B artist': 'NNP_GROUP', 'SZA': 'NNP_PERSON', 'industry buzz': 'NN_RELATION', 'work': 'NN_ACT', 'Top Dawg Entertainment': 'NNP_GROUP', 'EP': 'NNP_GROUP', 'Z': 'NNP_EVENT'}\n",
      "{'album': 'NN_COMMUNICATION', 'Ctrl': 'NNP_PERSON', 'singles': 'NNS_ACT', 'Love Galore': 'NNP_FOOD', 'Weekend': 'NNP_TIME', 'Broken Clocks': 'NNP_GROUP'}\n",
      "{'singer': 'NN_PERSON', 'songwriter': 'NN_GROUP', 'acts': 'NNS_COMMUNICATION', 'Rihanna': 'NNP_GROUP', 'Maroon': 'NNP_PERSON', 'Kendrick Lamar': 'NNP_GROUP'}\n"
     ]
    }
   ],
   "source": [
    "questions=questionize(sza)    #to see all questions generated from text, do print(questions)"
   ]
  },
  {
   "cell_type": "code",
   "execution_count": 13,
   "metadata": {},
   "outputs": [
    {
     "data": {
      "text/plain": [
       "\"when is Kendrick Lamar 's Birthday ?\""
      ]
     },
     "execution_count": 13,
     "metadata": {},
     "output_type": "execute_result"
    }
   ],
   "source": [
    "i=random.randint(0,len(questions)-1)\n",
    "questions[i]    #Enter to see next random question"
   ]
  }
 ],
 "metadata": {
  "kernelspec": {
   "display_name": "Python 3",
   "language": "python",
   "name": "python3"
  },
  "language_info": {
   "codemirror_mode": {
    "name": "ipython",
    "version": 3
   },
   "file_extension": ".py",
   "mimetype": "text/x-python",
   "name": "python",
   "nbconvert_exporter": "python",
   "pygments_lexer": "ipython3",
   "version": "3.6.3"
  }
 },
 "nbformat": 4,
 "nbformat_minor": 2
}
